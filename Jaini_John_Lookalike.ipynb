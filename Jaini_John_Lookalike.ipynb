{
 "cells": [
  {
   "cell_type": "markdown",
   "id": "cc1a283b",
   "metadata": {},
   "source": [
    "#### Lookalike"
   ]
  },
  {
   "cell_type": "code",
   "execution_count": 1,
   "id": "cfdc3a91",
   "metadata": {},
   "outputs": [],
   "source": [
    "import pandas as pd"
   ]
  },
  {
   "cell_type": "code",
   "execution_count": 2,
   "id": "4b31fe81",
   "metadata": {},
   "outputs": [],
   "source": [
    "# Load datasets\n",
    "customers = pd.read_csv('/Users/jaini/Downloads/Customers.csv')\n",
    "products = pd.read_csv('/Users/jaini/Downloads/Products.csv')\n",
    "transactions = pd.read_csv('/Users/jaini/Downloads/Transactions.csv')"
   ]
  },
  {
   "cell_type": "code",
   "execution_count": 3,
   "id": "cd41c23e",
   "metadata": {},
   "outputs": [],
   "source": [
    "# Merge transactions with customers\n",
    "transactions_customers = pd.merge(transactions, customers, on='CustomerID')"
   ]
  },
  {
   "cell_type": "code",
   "execution_count": 4,
   "id": "dbbdcbbf",
   "metadata": {},
   "outputs": [
    {
     "data": {
      "text/html": [
       "<div>\n",
       "<style scoped>\n",
       "    .dataframe tbody tr th:only-of-type {\n",
       "        vertical-align: middle;\n",
       "    }\n",
       "\n",
       "    .dataframe tbody tr th {\n",
       "        vertical-align: top;\n",
       "    }\n",
       "\n",
       "    .dataframe thead th {\n",
       "        text-align: right;\n",
       "    }\n",
       "</style>\n",
       "<table border=\"1\" class=\"dataframe\">\n",
       "  <thead>\n",
       "    <tr style=\"text-align: right;\">\n",
       "      <th></th>\n",
       "      <th>TransactionID</th>\n",
       "      <th>CustomerID</th>\n",
       "      <th>ProductID</th>\n",
       "      <th>TransactionDate</th>\n",
       "      <th>Quantity</th>\n",
       "      <th>TotalValue</th>\n",
       "      <th>Price</th>\n",
       "      <th>CustomerName</th>\n",
       "      <th>Region</th>\n",
       "      <th>SignupDate</th>\n",
       "    </tr>\n",
       "  </thead>\n",
       "  <tbody>\n",
       "    <tr>\n",
       "      <th>0</th>\n",
       "      <td>T00001</td>\n",
       "      <td>C0199</td>\n",
       "      <td>P067</td>\n",
       "      <td>2024-08-25 12:38:23</td>\n",
       "      <td>1</td>\n",
       "      <td>300.68</td>\n",
       "      <td>300.68</td>\n",
       "      <td>Andrea Jenkins</td>\n",
       "      <td>Europe</td>\n",
       "      <td>2022-12-03</td>\n",
       "    </tr>\n",
       "    <tr>\n",
       "      <th>1</th>\n",
       "      <td>T00761</td>\n",
       "      <td>C0199</td>\n",
       "      <td>P022</td>\n",
       "      <td>2024-10-01 05:57:09</td>\n",
       "      <td>4</td>\n",
       "      <td>550.16</td>\n",
       "      <td>137.54</td>\n",
       "      <td>Andrea Jenkins</td>\n",
       "      <td>Europe</td>\n",
       "      <td>2022-12-03</td>\n",
       "    </tr>\n",
       "    <tr>\n",
       "      <th>2</th>\n",
       "      <td>T00626</td>\n",
       "      <td>C0199</td>\n",
       "      <td>P079</td>\n",
       "      <td>2024-08-17 12:06:08</td>\n",
       "      <td>2</td>\n",
       "      <td>834.74</td>\n",
       "      <td>417.37</td>\n",
       "      <td>Andrea Jenkins</td>\n",
       "      <td>Europe</td>\n",
       "      <td>2022-12-03</td>\n",
       "    </tr>\n",
       "    <tr>\n",
       "      <th>3</th>\n",
       "      <td>T00963</td>\n",
       "      <td>C0199</td>\n",
       "      <td>P008</td>\n",
       "      <td>2024-10-26 00:01:58</td>\n",
       "      <td>2</td>\n",
       "      <td>293.70</td>\n",
       "      <td>146.85</td>\n",
       "      <td>Andrea Jenkins</td>\n",
       "      <td>Europe</td>\n",
       "      <td>2022-12-03</td>\n",
       "    </tr>\n",
       "    <tr>\n",
       "      <th>4</th>\n",
       "      <td>T00112</td>\n",
       "      <td>C0146</td>\n",
       "      <td>P067</td>\n",
       "      <td>2024-05-27 22:23:54</td>\n",
       "      <td>1</td>\n",
       "      <td>300.68</td>\n",
       "      <td>300.68</td>\n",
       "      <td>Brittany Harvey</td>\n",
       "      <td>Asia</td>\n",
       "      <td>2024-09-04</td>\n",
       "    </tr>\n",
       "  </tbody>\n",
       "</table>\n",
       "</div>"
      ],
      "text/plain": [
       "  TransactionID CustomerID ProductID      TransactionDate  Quantity  \\\n",
       "0        T00001      C0199      P067  2024-08-25 12:38:23         1   \n",
       "1        T00761      C0199      P022  2024-10-01 05:57:09         4   \n",
       "2        T00626      C0199      P079  2024-08-17 12:06:08         2   \n",
       "3        T00963      C0199      P008  2024-10-26 00:01:58         2   \n",
       "4        T00112      C0146      P067  2024-05-27 22:23:54         1   \n",
       "\n",
       "   TotalValue   Price     CustomerName  Region  SignupDate  \n",
       "0      300.68  300.68   Andrea Jenkins  Europe  2022-12-03  \n",
       "1      550.16  137.54   Andrea Jenkins  Europe  2022-12-03  \n",
       "2      834.74  417.37   Andrea Jenkins  Europe  2022-12-03  \n",
       "3      293.70  146.85   Andrea Jenkins  Europe  2022-12-03  \n",
       "4      300.68  300.68  Brittany Harvey    Asia  2024-09-04  "
      ]
     },
     "execution_count": 4,
     "metadata": {},
     "output_type": "execute_result"
    }
   ],
   "source": [
    "transactions_customers.head()"
   ]
  },
  {
   "cell_type": "code",
   "execution_count": 5,
   "id": "22745cae",
   "metadata": {
    "scrolled": true
   },
   "outputs": [
    {
     "name": "stdout",
     "output_type": "stream",
     "text": [
      "  TransactionID CustomerID ProductID      TransactionDate  Quantity  \\\n",
      "0        T00001      C0199      P067  2024-08-25 12:38:23         1   \n",
      "1        T00112      C0146      P067  2024-05-27 22:23:54         1   \n",
      "2        T00166      C0127      P067  2024-04-25 07:38:55         1   \n",
      "3        T00272      C0087      P067  2024-03-26 22:55:37         2   \n",
      "4        T00363      C0070      P067  2024-03-21 15:10:10         3   \n",
      "\n",
      "   TotalValue  Price_x     CustomerName         Region  SignupDate  \\\n",
      "0      300.68   300.68   Andrea Jenkins         Europe  2022-12-03   \n",
      "1      300.68   300.68  Brittany Harvey           Asia  2024-09-04   \n",
      "2      300.68   300.68  Kathryn Stevens         Europe  2024-04-04   \n",
      "3      601.36   300.68  Travis Campbell  South America  2024-04-11   \n",
      "4      902.04   300.68    Timothy Perez         Europe  2022-03-15   \n",
      "\n",
      "                       ProductName     Category  Price_y  \n",
      "0  ComfortLiving Bluetooth Speaker  Electronics   300.68  \n",
      "1  ComfortLiving Bluetooth Speaker  Electronics   300.68  \n",
      "2  ComfortLiving Bluetooth Speaker  Electronics   300.68  \n",
      "3  ComfortLiving Bluetooth Speaker  Electronics   300.68  \n",
      "4  ComfortLiving Bluetooth Speaker  Electronics   300.68  \n"
     ]
    }
   ],
   "source": [
    "# Merge the result with products\n",
    "full_data = pd.merge(transactions_customers, products, on='ProductID')\n",
    "\n",
    "print(full_data.head())"
   ]
  },
  {
   "cell_type": "code",
   "execution_count": 6,
   "id": "dcc66e34",
   "metadata": {},
   "outputs": [
    {
     "name": "stdout",
     "output_type": "stream",
     "text": [
      "   Price_x  Price_y\n",
      "0   300.68   300.68\n",
      "1   300.68   300.68\n",
      "2   300.68   300.68\n",
      "3   300.68   300.68\n",
      "4   300.68   300.68\n",
      "  TransactionID CustomerID ProductID      TransactionDate  Quantity  \\\n",
      "0        T00001      C0199      P067  2024-08-25 12:38:23         1   \n",
      "1        T00112      C0146      P067  2024-05-27 22:23:54         1   \n",
      "2        T00166      C0127      P067  2024-04-25 07:38:55         1   \n",
      "3        T00272      C0087      P067  2024-03-26 22:55:37         2   \n",
      "4        T00363      C0070      P067  2024-03-21 15:10:10         3   \n",
      "\n",
      "   TotalValue   Price     CustomerName         Region  SignupDate  \\\n",
      "0      300.68  300.68   Andrea Jenkins         Europe  2022-12-03   \n",
      "1      300.68  300.68  Brittany Harvey           Asia  2024-09-04   \n",
      "2      300.68  300.68  Kathryn Stevens         Europe  2024-04-04   \n",
      "3      601.36  300.68  Travis Campbell  South America  2024-04-11   \n",
      "4      902.04  300.68    Timothy Perez         Europe  2022-03-15   \n",
      "\n",
      "                       ProductName     Category  \n",
      "0  ComfortLiving Bluetooth Speaker  Electronics  \n",
      "1  ComfortLiving Bluetooth Speaker  Electronics  \n",
      "2  ComfortLiving Bluetooth Speaker  Electronics  \n",
      "3  ComfortLiving Bluetooth Speaker  Electronics  \n",
      "4  ComfortLiving Bluetooth Speaker  Electronics  \n"
     ]
    }
   ],
   "source": [
    "# Check for Price_x and Price_y\n",
    "print(full_data[['Price_x', 'Price_y']].head())  # Preview to confirm they are the same\n",
    "\n",
    "# Drop one and rename the other\n",
    "full_data = full_data.drop(columns=['Price_y']).rename(columns={'Price_x': 'Price'})\n",
    "\n",
    "# Verify the changes\n",
    "print(full_data.head())"
   ]
  },
  {
   "cell_type": "code",
   "execution_count": 7,
   "id": "b18c6f34",
   "metadata": {},
   "outputs": [
    {
     "name": "stdout",
     "output_type": "stream",
     "text": [
      "  CustomerID  TotalValue  Quantity       Price  Category_Clothing  \\\n",
      "0      C0001     3354.52        12  278.334000                  0   \n",
      "1      C0002     1862.74        10  208.920000                  1   \n",
      "2      C0003     2725.38        14  195.707500                  0   \n",
      "3      C0004     5354.88        23  240.636250                  0   \n",
      "4      C0005     2034.24         7  291.603333                  0   \n",
      "\n",
      "   Category_Electronics  Category_Home Decor  Region_Europe  \\\n",
      "0                     1                    0              0   \n",
      "1                     0                    0              0   \n",
      "2                     0                    1              0   \n",
      "3                     0                    0              0   \n",
      "4                     1                    0              0   \n",
      "\n",
      "   Region_North America  Region_South America  \n",
      "0                     0                     1  \n",
      "1                     0                     0  \n",
      "2                     0                     1  \n",
      "3                     0                     1  \n",
      "4                     0                     0  \n"
     ]
    }
   ],
   "source": [
    "# Aggregate data by CustomerID\n",
    "customer_features = full_data.groupby('CustomerID').agg({\n",
    "    'TotalValue': 'sum',    # Total spending\n",
    "    'Quantity': 'sum',      # Total quantity purchased\n",
    "    'Price': 'mean',        # Average product price\n",
    "    'Category': lambda x: x.mode()[0],  # Most common product category\n",
    "    'Region': lambda x: x.mode()[0]     # Most common region\n",
    "}).reset_index()\n",
    "\n",
    "# Encode categorical variables (Category and Region)\n",
    "customer_features = pd.get_dummies(customer_features, columns=['Category', 'Region'], drop_first=True)\n",
    "\n",
    "print(customer_features.head())"
   ]
  },
  {
   "cell_type": "markdown",
   "id": "91fd85d3",
   "metadata": {},
   "source": [
    "#### Compute Customer Similarity"
   ]
  },
  {
   "cell_type": "code",
   "execution_count": 8,
   "id": "ac413ea6",
   "metadata": {},
   "outputs": [
    {
     "name": "stdout",
     "output_type": "stream",
     "text": [
      "[[-0.06170143 -0.12203296  0.09467022 -0.54056248  1.84992492 -0.51721942\n",
      "  -0.57928445 -0.54831888  1.54041597]\n",
      " [-0.87774353 -0.44800021 -0.90401592  1.84992492 -0.54056248 -0.51721942\n",
      "  -0.57928445 -0.54831888 -0.6491753 ]\n",
      " [-0.40585722  0.20393428 -1.09410928 -0.54056248 -0.54056248  1.93341543\n",
      "  -0.57928445 -0.54831888  1.54041597]\n",
      " [ 1.03254704  1.67078689 -0.44770193 -0.54056248 -0.54056248 -0.51721942\n",
      "  -0.57928445 -0.54831888  1.54041597]\n",
      " [-0.78392861 -0.93695108  0.28558127 -0.54056248  1.84992492 -0.51721942\n",
      "  -0.57928445 -0.54831888 -0.6491753 ]]\n"
     ]
    }
   ],
   "source": [
    "from sklearn.preprocessing import StandardScaler\n",
    "\n",
    "# Standardize the numerical features\n",
    "scaler = StandardScaler()\n",
    "features_scaled = scaler.fit_transform(customer_features.iloc[:, 1:])  # Exclude CustomerID\n",
    "\n",
    "print(features_scaled[:5])"
   ]
  },
  {
   "cell_type": "code",
   "execution_count": 9,
   "id": "7617c79a",
   "metadata": {},
   "outputs": [
    {
     "name": "stdout",
     "output_type": "stream",
     "text": [
      "CustomerID     C0001     C0002     C0003     C0004     C0005     C0006  \\\n",
      "CustomerID                                                               \n",
      "C0001       1.000000 -0.299452  0.152988  0.302983  0.558908  0.454814   \n",
      "C0002      -0.299452  1.000000 -0.105868 -0.279348  0.026018 -0.331578   \n",
      "C0003       0.152988 -0.105868  1.000000  0.361307 -0.296941  0.224052   \n",
      "C0004       0.302983 -0.279348  0.361307  1.000000 -0.456930  0.599778   \n",
      "C0005       0.558908  0.026018 -0.296941 -0.456930  1.000000 -0.136302   \n",
      "\n",
      "CustomerID     C0007     C0008     C0009     C0010  ...     C0191     C0192  \\\n",
      "CustomerID                                          ...                       \n",
      "C0001       0.543651 -0.422514 -0.334661 -0.391361  ...  0.495132  0.941914   \n",
      "C0002      -0.131731 -0.278346  0.577223  0.692261  ... -0.114244 -0.169091   \n",
      "C0003      -0.413286  0.353550 -0.345491 -0.117472  ...  0.414297  0.144901   \n",
      "C0004      -0.412542  0.067459 -0.649571 -0.268918  ...  0.538855  0.049054   \n",
      "C0005       0.940938 -0.431747  0.076607 -0.187025  ... -0.055899  0.678396   \n",
      "\n",
      "CustomerID     C0193     C0194     C0195     C0196     C0197     C0198  \\\n",
      "CustomerID                                                               \n",
      "C0001      -0.200818 -0.361900  0.150879 -0.338563  0.292552 -0.343349   \n",
      "C0002       0.285263 -0.106958 -0.288132 -0.480982 -0.052615  0.658981   \n",
      "C0003      -0.142715 -0.256929  0.938559 -0.002287 -0.277689 -0.256519   \n",
      "C0004      -0.047905 -0.012518  0.535587 -0.235527 -0.438849 -0.608853   \n",
      "C0005       0.283163 -0.197157 -0.423638 -0.206816  0.609977  0.048022   \n",
      "\n",
      "CustomerID     C0199     C0200  \n",
      "CustomerID                      \n",
      "C0001       0.302442 -0.336025  \n",
      "C0002      -0.096325  0.605831  \n",
      "C0003      -0.326950 -0.366289  \n",
      "C0004      -0.462628  0.094901  \n",
      "C0005       0.632377 -0.258868  \n",
      "\n",
      "[5 rows x 199 columns]\n"
     ]
    }
   ],
   "source": [
    "from sklearn.metrics.pairwise import cosine_similarity\n",
    "\n",
    "# Calculate cosine similarity\n",
    "similarity_matrix = cosine_similarity(features_scaled)\n",
    "\n",
    "# Convert similarity matrix to a DataFrame for easier handling\n",
    "similarity_df = pd.DataFrame(similarity_matrix, index=customer_features['CustomerID'], columns=customer_features['CustomerID'])\n",
    "print(similarity_df.head())"
   ]
  },
  {
   "cell_type": "markdown",
   "id": "eed9f311",
   "metadata": {},
   "source": [
    "#### Recommend Similar Customers"
   ]
  },
  {
   "cell_type": "code",
   "execution_count": 10,
   "id": "a0ee222b",
   "metadata": {},
   "outputs": [],
   "source": [
    "def recommend_customers(customer_id, top_n=3):\n",
    "    # Get similarity scores for the given customer\n",
    "    scores = similarity_df[customer_id]\n",
    "    \n",
    "    # Exclude the customer itself and sort by similarity\n",
    "    similar_customers = scores.drop(customer_id).sort_values(ascending=False).head(top_n)\n",
    "    \n",
    "    # Return as a list of tuples (CustomerID, Similarity Score)\n",
    "    return list(zip(similar_customers.index, similar_customers.values))"
   ]
  },
  {
   "cell_type": "code",
   "execution_count": 11,
   "id": "aae9f0fb",
   "metadata": {},
   "outputs": [
    {
     "name": "stdout",
     "output_type": "stream",
     "text": [
      "  CustomerID                                   SimilarCustomers\n",
      "0      C0001  [(C0181, 0.9806488873652772), (C0120, 0.963992...\n",
      "1      C0002  [(C0088, 0.9917448788793644), (C0106, 0.943550...\n",
      "2      C0003  [(C0031, 0.948158131730056), (C0052, 0.9424308...\n",
      "3      C0004  [(C0165, 0.9663279632163544), (C0169, 0.942305...\n",
      "4      C0005  [(C0140, 0.9934347203051204), (C0186, 0.988532...\n"
     ]
    }
   ],
   "source": [
    "# Generate recommendations\n",
    "lookalike_recommendations = {\n",
    "    customer: recommend_customers(customer)\n",
    "    for customer in customer_features['CustomerID'][:20]\n",
    "}\n",
    "\n",
    "# Convert recommendations to a DataFrame\n",
    "lookalike_df = pd.DataFrame([\n",
    "    {'CustomerID': customer, 'SimilarCustomers': recommendations}\n",
    "    for customer, recommendations in lookalike_recommendations.items()\n",
    "])\n",
    "\n",
    "print(lookalike_df.head())"
   ]
  },
  {
   "cell_type": "markdown",
   "id": "7c850d22",
   "metadata": {},
   "source": [
    "#### Saving output to a CSV"
   ]
  },
  {
   "cell_type": "code",
   "execution_count": 12,
   "id": "691833f4",
   "metadata": {},
   "outputs": [],
   "source": [
    "import csv\n",
    "\n",
    "# Save recommendations to Lookalike.csv\n",
    "with open('Jaini_John_Lookalike.csv', 'w') as f:\n",
    "    writer = csv.writer(f)\n",
    "    writer.writerow(['cust_id', 'similar_customers'])\n",
    "    for customer, recommendations in lookalike_recommendations.items():\n",
    "        writer.writerow([customer, recommendations])"
   ]
  },
  {
   "cell_type": "code",
   "execution_count": null,
   "id": "0bd46e2f",
   "metadata": {},
   "outputs": [],
   "source": []
  }
 ],
 "metadata": {
  "kernelspec": {
   "display_name": "Python 3 (ipykernel)",
   "language": "python",
   "name": "python3"
  },
  "language_info": {
   "codemirror_mode": {
    "name": "ipython",
    "version": 3
   },
   "file_extension": ".py",
   "mimetype": "text/x-python",
   "name": "python",
   "nbconvert_exporter": "python",
   "pygments_lexer": "ipython3",
   "version": "3.11.4"
  }
 },
 "nbformat": 4,
 "nbformat_minor": 5
}
